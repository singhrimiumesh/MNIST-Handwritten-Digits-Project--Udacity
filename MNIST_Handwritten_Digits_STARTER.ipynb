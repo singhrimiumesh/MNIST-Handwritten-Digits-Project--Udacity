{
  "cells": [
    {
      "cell_type": "markdown",
      "metadata": {
        "id": "DywO2DaI7Hfg"
      },
      "source": [
        "# Introduction\n",
        "\n",
        "In this project, you will build a neural network of your own design to evaluate the MNIST dataset.\n",
        "\n",
        "Some of the benchmark results on MNIST include can be found [on Yann LeCun's page](https://webcache.googleusercontent.com/search?q=cache:stAVPik6onEJ:yann.lecun.com/exdb/mnist) and include:\n",
        "\n",
        "88% [Lecun et al., 1998](https://hal.science/hal-03926082/document)\n",
        "\n",
        "95.3% [Lecun et al., 1998](https://hal.science/hal-03926082v1/document)\n",
        "\n",
        "99.65% [Ciresan et al., 2011](http://people.idsia.ch/~juergen/ijcai2011.pdf)\n",
        "\n",
        "\n",
        "MNIST is a great dataset for sanity checking your models, since the accuracy levels achieved by large convolutional neural networks and small linear models are both quite high. This makes it important to be familiar with the data.\n",
        "\n",
        "## Installation"
      ]
    },
    {
      "cell_type": "code",
      "execution_count": 4,
      "metadata": {
        "colab": {
          "base_uri": "https://localhost:8080/"
        },
        "id": "-scm2R2T7Hfh",
        "outputId": "1d04da63-b247-46a6-f08b-864c3385000a"
      },
      "outputs": [
        {
          "output_type": "stream",
          "name": "stdout",
          "text": [
            "\u001b[2K   \u001b[90m━━━━━━━━━━━━━━━━━━━━━━━━━━━━━━━━━━━━━━━━\u001b[0m \u001b[32m139.8/139.8 kB\u001b[0m \u001b[31m3.6 MB/s\u001b[0m eta \u001b[36m0:00:00\u001b[0m\n",
            "\u001b[2K   \u001b[90m━━━━━━━━━━━━━━━━━━━━━━━━━━━━━━━━━━━━━━━━\u001b[0m \u001b[32m2.2/2.2 MB\u001b[0m \u001b[31m34.8 MB/s\u001b[0m eta \u001b[36m0:00:00\u001b[0m\n",
            "\u001b[2K   \u001b[90m━━━━━━━━━━━━━━━━━━━━━━━━━━━━━━━━━━━━━━━━\u001b[0m \u001b[32m1.6/1.6 MB\u001b[0m \u001b[31m55.5 MB/s\u001b[0m eta \u001b[36m0:00:00\u001b[0m\n",
            "\u001b[?25h"
          ]
        }
      ],
      "source": [
        "!pip install ipywidgets==8.1.5 --quiet\n",
        "!pip install seaborn==0.13.2 --quiet"
      ]
    },
    {
      "cell_type": "markdown",
      "metadata": {
        "id": "qlno2M4c7Hfi"
      },
      "source": [
        "**Important: Restart the Kernel at this moment**"
      ]
    },
    {
      "cell_type": "markdown",
      "metadata": {
        "id": "lOabDCZ07Hfi"
      },
      "source": [
        "## Imports"
      ]
    },
    {
      "cell_type": "code",
      "execution_count": 11,
      "metadata": {
        "id": "muwsjXcJ7Hfi"
      },
      "outputs": [],
      "source": [
        "import torch\n",
        "import torch.nn as nn\n",
        "import torch.nn.functional as F\n",
        "import torch.optim as optim\n",
        "import torchvision\n",
        "import torchvision.transforms as transforms\n",
        "import matplotlib.pyplot as plt\n",
        "import numpy as np\n",
        "from torch.utils.data import DataLoader"
      ]
    },
    {
      "cell_type": "markdown",
      "metadata": {
        "id": "chjIFpV87Hfi"
      },
      "source": [
        "## Load the Dataset\n",
        "\n",
        "Specify your transforms as a list if you intend to .\n",
        "The transforms module is already loaded as `transforms`.\n",
        "\n",
        "MNIST is fortunately included in the torchvision module.\n",
        "Then, you can create your dataset using the `MNIST` object from `torchvision.datasets` ([the documentation is available here](https://pytorch.org/vision/stable/datasets.html#mnist)).\n",
        "Make sure to specify `download=True`!\n",
        "\n",
        "Once your dataset is created, you'll also need to define a `DataLoader` from the `torch.utils.data` module for both the train and the test set."
      ]
    },
    {
      "cell_type": "code",
      "execution_count": 12,
      "metadata": {
        "id": "03KwaEj_7Hfj"
      },
      "outputs": [],
      "source": [
        "# Define transforms\n",
        "transforms = transforms.ToTensor()\n",
        "\n",
        "# Create training set and define training dataloader\n",
        "train_data = torchvision.datasets.MNIST(root=\"data\", train=True, download=True, transform=transforms)\n",
        "train_loader = DataLoader(train_data, batch_size=100, shuffle=True)\n",
        "\n",
        "# Create test set and define test dataloader\n",
        "test_data = torchvision.datasets.MNIST(root=\"data\", train=False, download=True, transform=transforms)\n",
        "test_loader = DataLoader(test_data, batch_size=100)"
      ]
    },
    {
      "cell_type": "markdown",
      "metadata": {
        "id": "DX5yGXI37Hfj"
      },
      "source": [
        "## Justify your preprocessing\n",
        "\n",
        "In your own words, why did you choose the transforms you chose? If you didn't use any preprocessing steps, why not?"
      ]
    },
    {
      "cell_type": "markdown",
      "metadata": {
        "id": "Dbm4VHtp7Hfj"
      },
      "source": [
        "## Explore the Dataset\n",
        "Using matplotlib, numpy, and torch, explore the dimensions of your data.\n",
        "\n",
        "You can view images using the `show5` function defined below – it takes a data loader as an argument.\n",
        "Remember that normalized images will look really weird to you! You may want to try changing your transforms to view images.\n",
        "Typically using no transforms other than `toTensor()` works well for viewing – but not as well for training your network.\n",
        "If `show5` doesn't work, go back and check your code for creating your data loaders and your training/test sets."
      ]
    },
    {
      "cell_type": "code",
      "execution_count": 13,
      "metadata": {
        "id": "2FToZUaz7Hfj"
      },
      "outputs": [],
      "source": [
        "## This cell contains a function for showing 5 images from a dataloader – DO NOT CHANGE THE CONTENTS! ##\n",
        "def show5(img_loader):\n",
        "    dataiter = iter(img_loader)\n",
        "\n",
        "    batch = next(dataiter)\n",
        "    labels = batch[1][0:5]\n",
        "    images = batch[0][0:5]\n",
        "    for i in range(5):\n",
        "        print(int(labels[i].detach()))\n",
        "\n",
        "        image = images[i].numpy()\n",
        "        plt.imshow(image.T.squeeze().T)\n",
        "        plt.show()"
      ]
    },
    {
      "cell_type": "code",
      "execution_count": 14,
      "metadata": {
        "colab": {
          "base_uri": "https://localhost:8080/",
          "height": 1000
        },
        "id": "5szcwLLU7Hfk",
        "outputId": "0a5e0d44-cf92-47a1-d65e-fb2fb10f6111"
      },
      "outputs": [
        {
          "output_type": "stream",
          "name": "stdout",
          "text": [
            "5\n"
          ]
        },
        {
          "output_type": "display_data",
          "data": {
            "text/plain": [
              "<Figure size 640x480 with 1 Axes>"
            ],
            "image/png": "[encoded data removed]"
          },
          "metadata": {}
        },
        {
          "output_type": "stream",
          "name": "stdout",
          "text": [
            "0\n"
          ]
        },
        {
          "output_type": "display_data",
          "data": {
            "text/plain": [
              "<Figure size 640x480 with 1 Axes>"
            ],
            "image/png": "[encoded data removed]"
          },
          "metadata": {}
        },
        {
          "output_type": "stream",
          "name": "stdout",
          "text": [
            "0\n"
          ]
        },
        {
          "output_type": "display_data",
          "data": {
            "text/plain": [
              "<Figure size 640x480 with 1 Axes>"
            ],
            "image/png": "[encoded data removed]"
          },
          "metadata": {}
        },
        {
          "output_type": "stream",
          "name": "stdout",
          "text": [
            "7\n"
          ]
        },
        {
          "output_type": "display_data",
          "data": {
            "text/plain": [
              "<Figure size 640x480 with 1 Axes>"
            ],
            "image/png": "[encoded data removed]"
          },
          "metadata": {}
        },
        {
          "output_type": "stream",
          "name": "stdout",
          "text": [
            "5\n"
          ]
        },
        {
          "output_type": "display_data",
          "data": {
            "text/plain": [
              "<Figure size 640x480 with 1 Axes>"
            ],
            "image/png": "[encoded data removed]"
          },
          "metadata": {}
        }
      ],
      "source": [
        "# Explore data\n",
        "show5(train_loader)"
      ]
    },
    {
      "cell_type": "code",
      "source": [
        "# Explore data\n",
        "dataiter = iter(train_loader)\n",
        "images, labels = next(dataiter)\n",
        "\n",
        "print(\"number of images: {}\".format(images.shape))\n",
        "print(\"number of labels: {}\".format(labels.shape))"
      ],
      "metadata": {
        "colab": {
          "base_uri": "https://localhost:8080/"
        },
        "id": "Rdtj05KN9nTL",
        "outputId": "e527c919-a541-456e-eae3-41f71add368b"
      },
      "execution_count": 15,
      "outputs": [
        {
          "output_type": "stream",
          "name": "stdout",
          "text": [
            "number of images: torch.Size([100, 1, 28, 28])\n",
            "number of labels: torch.Size([100])\n"
          ]
        }
      ]
    },
    {
      "cell_type": "code",
      "source": [
        "# Explore data\n",
        "print(\"Number of MNIST train data examples: {}\".format(len(train_data)))\n",
        "print(\"Number of MNIST test data examples: {}\".format(len(test_data)))"
      ],
      "metadata": {
        "colab": {
          "base_uri": "https://localhost:8080/"
        },
        "id": "_GiuRhl79tBn",
        "outputId": "f5fcd6e5-7ce6-4c7a-f7db-46ce79fcf31a"
      },
      "execution_count": 16,
      "outputs": [
        {
          "output_type": "stream",
          "name": "stdout",
          "text": [
            "Number of MNIST train data examples: 60000\n",
            "Number of MNIST test data examples: 10000\n"
          ]
        }
      ]
    },
    {
      "cell_type": "markdown",
      "metadata": {
        "id": "C07fJ-qF7Hfk"
      },
      "source": [
        "## Build your Neural Network\n",
        "Using the layers in `torch.nn` (which has been imported as `nn`) and the `torch.nn.functional` module (imported as `F`), construct a neural network based on the parameters of the dataset.\n",
        "Use any architecture you like.\n",
        "\n",
        "*Note*: If you did not flatten your tensors in your transforms or as part of your preprocessing and you are using only `Linear` layers, make sure to use the `Flatten` layer in your network!"
      ]
    },
    {
      "cell_type": "code",
      "execution_count": 17,
      "metadata": {
        "id": "2BfGashm7Hfk"
      },
      "outputs": [],
      "source": [
        "class Model(nn.Module):\n",
        "    def __init__(self):\n",
        "        super(Model, self).__init__()\n",
        "        self.activation = F.relu\n",
        "        self.layer1 = nn.Linear(28 * 28, 128)\n",
        "        self.layer2 = nn.Linear(128, 64)\n",
        "        self.layer3 = nn.Linear(64, 10)\n",
        "\n",
        "    def forward(self, x):\n",
        "        x = torch.flatten(x, 1)\n",
        "        x = self.activation(self.layer1(x))\n",
        "        x = self.activation(self.layer2(x))\n",
        "        x = self.layer3(x)\n",
        "        return x\n",
        "\n",
        "net = Model()"
      ]
    },
    {
      "cell_type": "markdown",
      "metadata": {
        "id": "jApEaDSq7Hfk"
      },
      "source": [
        "Specify a loss function and an optimizer, and instantiate the model.\n",
        "\n",
        "If you use a less common loss function, please note why you chose that loss function in a comment."
      ]
    },
    {
      "cell_type": "code",
      "execution_count": 18,
      "metadata": {
        "id": "wDN_fABq7Hfk"
      },
      "outputs": [],
      "source": [
        "optimizer = optim.Adam(net.parameters(), lr=0.0005)\n",
        "\n",
        "criterion = nn.CrossEntropyLoss()"
      ]
    },
    {
      "cell_type": "markdown",
      "metadata": {
        "id": "rQKLHFMC7Hfk"
      },
      "source": [
        "## Running your Neural Network\n",
        "Use whatever method you like to train your neural network, and ensure you record the average loss at each epoch.\n",
        "Don't forget to use `torch.device()` and the `.to()` method for both your model and your data if you are using GPU!\n",
        "\n",
        "If you want to print your loss **during** each epoch, you can use the `enumerate` function and print the loss after a set number of batches. 250 batches works well for most people!"
      ]
    },
    {
      "cell_type": "code",
      "execution_count": 19,
      "metadata": {
        "colab": {
          "base_uri": "https://localhost:8080/"
        },
        "id": "goqQbKjG7Hfk",
        "outputId": "f37a999c-7f4c-47b4-b492-0c5ba68adcc6"
      },
      "outputs": [
        {
          "output_type": "stream",
          "name": "stdout",
          "text": [
            "Epoch 1 training accuracy: 86.51% training loss: 0.50470\n",
            "Epoch 1 validation accuracy: 92.89% validation loss: 0.25124\n",
            "Epoch 2 training accuracy: 93.61% training loss: 0.22135\n",
            "Epoch 2 validation accuracy: 94.45% validation loss: 0.18617\n",
            "Epoch 3 training accuracy: 95.10% training loss: 0.16703\n",
            "Epoch 3 validation accuracy: 95.72% validation loss: 0.14229\n",
            "Epoch 4 training accuracy: 96.06% training loss: 0.13098\n",
            "Epoch 4 validation accuracy: 96.27% validation loss: 0.12123\n",
            "Epoch 5 training accuracy: 96.91% training loss: 0.10458\n",
            "Epoch 5 validation accuracy: 96.64% validation loss: 0.10993\n",
            "Epoch 6 training accuracy: 97.42% training loss: 0.08684\n",
            "Epoch 6 validation accuracy: 97.10% validation loss: 0.09400\n",
            "Epoch 7 training accuracy: 97.74% training loss: 0.07461\n",
            "Epoch 7 validation accuracy: 97.20% validation loss: 0.08828\n",
            "Epoch 8 training accuracy: 98.09% training loss: 0.06355\n",
            "Epoch 8 validation accuracy: 97.49% validation loss: 0.08024\n",
            "Epoch 9 training accuracy: 98.39% training loss: 0.05395\n",
            "Epoch 9 validation accuracy: 97.48% validation loss: 0.07892\n",
            "Epoch 10 training accuracy: 98.60% training loss: 0.04625\n",
            "Epoch 10 validation accuracy: 97.63% validation loss: 0.07853\n"
          ]
        }
      ],
      "source": [
        "num_epochs = 10\n",
        "\n",
        "train_loss_history = list()\n",
        "val_loss_history = list()\n",
        "\n",
        "for epoch in range(num_epochs):\n",
        "    net.train()\n",
        "    train_loss = 0.0\n",
        "    train_correct = 0\n",
        "    for i, data in enumerate(train_loader):\n",
        "        inputs, labels = data\n",
        "        optimizer.zero_grad()\n",
        "\n",
        "        outputs = net(inputs)\n",
        "        loss = criterion(outputs, labels)\n",
        "\n",
        "        loss.backward()\n",
        "        optimizer.step()\n",
        "\n",
        "        _, preds = torch.max(outputs.data, 1)\n",
        "        train_correct += (preds == labels).sum().item()\n",
        "        train_loss += loss.item()\n",
        "    print(f'Epoch {epoch + 1} training accuracy: {train_correct/len(train_loader):.2f}% training loss: {train_loss/len(train_loader):.5f}')\n",
        "    train_loss_history.append(train_loss/len(train_loader))\n",
        "\n",
        "    val_loss = 0.0\n",
        "    val_correct = 0\n",
        "    net.eval()\n",
        "    for inputs, labels in test_loader:\n",
        "\n",
        "        outputs = net(inputs)\n",
        "        loss = criterion(outputs, labels)\n",
        "\n",
        "        _, preds = torch.max(outputs.data, 1)\n",
        "        val_correct += (preds == labels).sum().item()\n",
        "        val_loss += loss.item()\n",
        "    print(f'Epoch {epoch + 1} validation accuracy: {val_correct/len(test_loader):.2f}% validation loss: {val_loss/len(test_loader):.5f}')\n",
        "    val_loss_history.append(val_loss/len(test_loader))"
      ]
    },
    {
      "cell_type": "markdown",
      "metadata": {
        "id": "YyttWyGr7Hfk"
      },
      "source": [
        "Plot the training loss (and validation loss/accuracy, if recorded)."
      ]
    },
    {
      "cell_type": "code",
      "execution_count": 20,
      "metadata": {
        "colab": {
          "base_uri": "https://localhost:8080/",
          "height": 430
        },
        "id": "_9qRbpQx7Hfk",
        "outputId": "9ae4c09b-919a-45e8-c99e-e2f87ec1d109"
      },
      "outputs": [
        {
          "output_type": "display_data",
          "data": {
            "text/plain": [
              "<Figure size 640x480 with 1 Axes>"
            ],
            "image/png": "[encoded data removed]"
          },
          "metadata": {}
        }
      ],
      "source": [
        "plt.plot(train_loss_history, label=\"Training Loss\")\n",
        "plt.plot(val_loss_history, label=\"Validation Loss\")\n",
        "plt.legend()\n",
        "plt.show()"
      ]
    },
    {
      "cell_type": "markdown",
      "metadata": {
        "id": "fc8Nzszf7Hfk"
      },
      "source": [
        "## Testing your model\n",
        "Using the previously created `DataLoader` for the test set, compute the percentage of correct predictions using the highest probability prediction.\n",
        "\n",
        "If your accuracy is over 90%, great work, but see if you can push a bit further!\n",
        "If your accuracy is under 90%, you'll need to make improvements.\n",
        "Go back and check your model architecture, loss function, and optimizer to make sure they're appropriate for an image classification task."
      ]
    },
    {
      "cell_type": "code",
      "execution_count": 21,
      "metadata": {
        "id": "xNdJ8K3J7Hfl"
      },
      "outputs": [],
      "source": [
        "def test():\n",
        "    net.eval()\n",
        "    test_loss = 0\n",
        "    test_correct = 0\n",
        "    for i, data in enumerate(test_loader):\n",
        "        inputs, labels  = data\n",
        "\n",
        "        optimizer.zero_grad()\n",
        "\n",
        "        outputs = net(inputs)\n",
        "        loss = criterion(outputs, labels)\n",
        "\n",
        "        loss.backward()\n",
        "        optimizer.step()\n",
        "\n",
        "        _, preds = torch.max(outputs.data, 1)\n",
        "        test_correct += (preds == labels).sum().item()\n",
        "        test_loss += loss.item()\n",
        "    print(f'Epoch {epoch + 1} test accuracy: {test_correct/len(test_loader):.2f}% test loss: {test_loss/len(test_loader):.5f}')"
      ]
    },
    {
      "cell_type": "code",
      "source": [
        "for epoch in range(num_epochs):\n",
        "    test()"
      ],
      "metadata": {
        "colab": {
          "base_uri": "https://localhost:8080/"
        },
        "id": "vZXslBVs-dJ9",
        "outputId": "79f8e73c-a1ee-431d-c3df-e4cbee55ef0d"
      },
      "execution_count": 22,
      "outputs": [
        {
          "output_type": "stream",
          "name": "stdout",
          "text": [
            "Epoch 1 test accuracy: 97.25% test loss: 0.08672\n",
            "Epoch 2 test accuracy: 98.24% test loss: 0.05460\n",
            "Epoch 3 test accuracy: 99.11% test loss: 0.03644\n",
            "Epoch 4 test accuracy: 99.39% test loss: 0.02670\n",
            "Epoch 5 test accuracy: 99.62% test loss: 0.02077\n",
            "Epoch 6 test accuracy: 99.77% test loss: 0.01674\n",
            "Epoch 7 test accuracy: 99.88% test loss: 0.01387\n",
            "Epoch 8 test accuracy: 99.95% test loss: 0.01161\n",
            "Epoch 9 test accuracy: 99.97% test loss: 0.00989\n",
            "Epoch 10 test accuracy: 99.97% test loss: 0.00849\n"
          ]
        }
      ]
    },
    {
      "cell_type": "markdown",
      "metadata": {
        "id": "cCIY56jV7Hfl"
      },
      "source": [
        "## Improving your model\n",
        "\n",
        "Once your model is done training, try tweaking your hyperparameters and training again below to improve your accuracy on the test set!"
      ]
    },
    {
      "cell_type": "code",
      "execution_count": 24,
      "metadata": {
        "id": "bcjC9EVv7Hfl"
      },
      "outputs": [],
      "source": [
        "class Model2(nn.Module):\n",
        "    def __init__(self):\n",
        "        super(Model2, self).__init__()\n",
        "        self.activation = F.relu\n",
        "        self.layer1 = nn.Linear(28 * 28, 128)\n",
        "        self.layer2 = nn.Linear(128, 64)\n",
        "        self.layer3 = nn.Linear(64, 10)\n",
        "\n",
        "        self.dropout=nn.Dropout(0.1)\n",
        "\n",
        "    def forward(self, x):\n",
        "        x = torch.flatten(x, 1)\n",
        "        x = self.activation(self.layer1(x))\n",
        "        x = self.activation(self.layer2(x))\n",
        "        x = self.layer3(x)\n",
        "        return x\n",
        "\n",
        "model2 = Model2()\n",
        "\n",
        "optimizer = optim.Adam(model2.parameters(), lr=0.001)\n",
        "\n",
        "criterion = nn.CrossEntropyLoss()"
      ]
    },
    {
      "cell_type": "code",
      "source": [
        "num_epochs = 10\n",
        "train_loss_history = list()\n",
        "val_loss_history = list()\n",
        "\n",
        "for epoch in range(num_epochs):\n",
        "    model2.train()\n",
        "    train_loss = 0.0\n",
        "    train_correct = 0\n",
        "    for i, data in enumerate(train_loader):\n",
        "        inputs, labels = data\n",
        "\n",
        "        optimizer.zero_grad()\n",
        "\n",
        "        outputs = model2(inputs)\n",
        "        loss = criterion(outputs, labels)\n",
        "\n",
        "        loss.backward()\n",
        "        optimizer.step()\n",
        "\n",
        "        _, preds = torch.max(outputs.data, 1)\n",
        "        train_correct += (preds == labels).sum().item()\n",
        "        train_loss += loss.item()\n",
        "    print(f'Epoch {epoch + 1} training accuracy: {train_correct/len(train_loader):.2f}% training loss: {train_loss/len(train_loader):.5f}')\n",
        "    train_loss_history.append(train_loss/len(train_loader))\n",
        "\n",
        "    val_loss = 0.0\n",
        "    val_correct = 0\n",
        "    model2.eval()\n",
        "    for inputs, labels in test_loader:\n",
        "\n",
        "        outputs = model2(inputs)\n",
        "        loss = criterion(outputs, labels)\n",
        "\n",
        "        _, preds = torch.max(outputs.data, 1)\n",
        "        val_correct += (preds == labels).sum().item()\n",
        "        val_loss += loss.item()\n",
        "    print(f'Epoch {epoch + 1} validation accuracy: {val_correct/len(test_loader):.2f}% validation loss: {val_loss/len(test_loader):.5f}')\n",
        "    val_loss_history.append(val_loss/len(test_loader))"
      ],
      "metadata": {
        "colab": {
          "base_uri": "https://localhost:8080/"
        },
        "id": "uD88aNZF-3O1",
        "outputId": "5a52f854-0121-470a-dbab-31f040029de1"
      },
      "execution_count": 25,
      "outputs": [
        {
          "output_type": "stream",
          "name": "stdout",
          "text": [
            "Epoch 1 training accuracy: 89.20% training loss: 0.39064\n",
            "Epoch 1 validation accuracy: 94.24% validation loss: 0.18483\n",
            "Epoch 2 training accuracy: 95.15% training loss: 0.16369\n",
            "Epoch 2 validation accuracy: 95.88% validation loss: 0.13234\n",
            "Epoch 3 training accuracy: 96.59% training loss: 0.11265\n",
            "Epoch 3 validation accuracy: 96.56% validation loss: 0.10761\n",
            "Epoch 4 training accuracy: 97.35% training loss: 0.08675\n",
            "Epoch 4 validation accuracy: 96.74% validation loss: 0.10495\n",
            "Epoch 5 training accuracy: 97.93% training loss: 0.06798\n",
            "Epoch 5 validation accuracy: 97.51% validation loss: 0.07956\n",
            "Epoch 6 training accuracy: 98.28% training loss: 0.05612\n",
            "Epoch 6 validation accuracy: 97.32% validation loss: 0.08896\n",
            "Epoch 7 training accuracy: 98.65% training loss: 0.04448\n",
            "Epoch 7 validation accuracy: 97.49% validation loss: 0.08609\n",
            "Epoch 8 training accuracy: 98.81% training loss: 0.03793\n",
            "Epoch 8 validation accuracy: 97.72% validation loss: 0.07752\n",
            "Epoch 9 training accuracy: 99.02% training loss: 0.03198\n",
            "Epoch 9 validation accuracy: 97.37% validation loss: 0.09563\n",
            "Epoch 10 training accuracy: 99.23% training loss: 0.02544\n",
            "Epoch 10 validation accuracy: 97.64% validation loss: 0.08479\n"
          ]
        }
      ]
    },
    {
      "cell_type": "markdown",
      "metadata": {
        "id": "WqEF3NhG7Hfl"
      },
      "source": [
        "## Saving your model\n",
        "Using `torch.save`, save your model for future loading."
      ]
    },
    {
      "cell_type": "code",
      "execution_count": 26,
      "metadata": {
        "id": "duudkgkA7Hfl"
      },
      "outputs": [],
      "source": [
        "torch.save(Model, \"Model.pth\")\n",
        "torch.save(Model2, \"Model2.pth\")"
      ]
    },
    {
      "cell_type": "code",
      "source": [],
      "metadata": {
        "id": "T2NpZn_d_H34"
      },
      "execution_count": null,
      "outputs": []
    }
  ],
  "metadata": {
    "kernelspec": {
      "display_name": "Python 3",
      "language": "python",
      "name": "python3"
    },
    "language_info": {
      "codemirror_mode": {
        "name": "ipython",
        "version": 3
      },
      "file_extension": ".py",
      "mimetype": "text/x-python",
      "name": "python",
      "nbconvert_exporter": "python",
      "pygments_lexer": "ipython3",
      "version": "3.7.6"
    },
    "colab": {
      "provenance": []
    }
  },
  "nbformat": 4,
  "nbformat_minor": 0
}